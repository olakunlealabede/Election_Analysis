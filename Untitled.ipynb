{
 "cells": [
  {
   "cell_type": "code",
   "execution_count": 1,
   "id": "d5efe1b4",
   "metadata": {},
   "outputs": [
    {
     "name": "stdout",
     "output_type": "stream",
     "text": [
      "<_io.TextIOWrapper name='Resources\\\\election_results.csv' mode='r' encoding='cp1252'>\n"
     ]
    }
   ],
   "source": [
    "import csv\n",
    "import os\n",
    "# Assign a variable for the file to load and the path.\n",
    "file_to_load = os.path.join(\"Resources\", \"election_results.csv\")\n",
    "# Open the election results and read the file.\n",
    "with open(file_to_load) as election_data:\n",
    "\n",
    "    # Print the file object.\n",
    "     print(election_data)"
   ]
  },
  {
   "cell_type": "code",
   "execution_count": 2,
   "id": "9f168429",
   "metadata": {},
   "outputs": [],
   "source": [
    "# Assign a variable for the file to load and the path.\n",
    "file_to_load = 'Resources/election_results.csv'"
   ]
  },
  {
   "cell_type": "code",
   "execution_count": 3,
   "id": "5e09dc08",
   "metadata": {},
   "outputs": [],
   "source": [
    "# Open the election results and read the file.\n",
    "election_data = open(file_to_load, 'r')\n",
    "\n",
    "# To do: perform analysis.\n",
    "\n",
    "# Close the file.\n",
    "election_data.close()"
   ]
  },
  {
   "cell_type": "code",
   "execution_count": 4,
   "id": "3ae3756e",
   "metadata": {},
   "outputs": [
    {
     "data": {
      "text/plain": [
       "<_io.TextIOWrapper name='Resources/election_results.csv' mode='r' encoding='cp1252'>"
      ]
     },
     "execution_count": 4,
     "metadata": {},
     "output_type": "execute_result"
    }
   ],
   "source": [
    "election_data"
   ]
  },
  {
   "cell_type": "code",
   "execution_count": 5,
   "id": "c8736ab8",
   "metadata": {},
   "outputs": [
    {
     "name": "stdout",
     "output_type": "stream",
     "text": [
      "<_io.TextIOWrapper name='Resources/election_results.csv' mode='r' encoding='cp1252'>\n"
     ]
    }
   ],
   "source": [
    "# Open the election results and read the file\n",
    "with open(file_to_load) as election_data:\n",
    "\n",
    "     # To do: perform analysis.\n",
    "     print(election_data)"
   ]
  },
  {
   "cell_type": "code",
   "execution_count": null,
   "id": "3be433d4",
   "metadata": {},
   "outputs": [],
   "source": []
  }
 ],
 "metadata": {
  "kernelspec": {
   "display_name": "PythonData",
   "language": "python",
   "name": "pythondata"
  },
  "language_info": {
   "codemirror_mode": {
    "name": "ipython",
    "version": 3
   },
   "file_extension": ".py",
   "mimetype": "text/x-python",
   "name": "python",
   "nbconvert_exporter": "python",
   "pygments_lexer": "ipython3",
   "version": "3.7.10"
  }
 },
 "nbformat": 4,
 "nbformat_minor": 5
}
